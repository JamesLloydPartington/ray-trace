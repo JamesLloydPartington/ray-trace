{
 "cells": [
  {
   "cell_type": "code",
   "execution_count": 1,
   "id": "ae60ec86",
   "metadata": {},
   "outputs": [],
   "source": [
    "import numpy as np\n",
    "import math"
   ]
  },
  {
   "cell_type": "code",
   "execution_count": 2,
   "id": "eb2f897a",
   "metadata": {},
   "outputs": [],
   "source": [
    "def refraction_angle(i = 0, n_before = 1, n_after = 1):\n",
    "    return math.asin( (n_before / n_after) * math.sin(i) )\n",
    "\n",
    "def polar_to_cart(pos, angle):\n",
    "    grad = math.tan(angle)\n",
    "    const = pos[1] - (grad * pos[0])\n",
    "    def f(x):\n",
    "        return x * grad + const\n",
    "    return f\n",
    "\n",
    "\n",
    "def calc_diff(func, x, dx = 1e-10):\n",
    "    return (func(x+dx) - func(x)) / dx\n",
    "\n",
    "def calc_intercept(f, g, interval, n_iter = 100, error = 1e-10):\n",
    "    x_guess = np.mean(interval)\n",
    "    for i in range(0, n_iter):\n",
    "        if x_guess < interval[0] or x_guess > interval[1]:\n",
    "            return x_guess, False\n",
    "        else:\n",
    "            \n",
    "            diff_f_g = f(x_guess) - g(x_guess)\n",
    "            if abs(diff_f_g) < error:\n",
    "                return x_guess, True\n",
    "            \n",
    "            grad_f_g = calc_diff(f, x_guess) - calc_diff(g, x_guess)\n",
    "            if abs(grad_f_g) < error:\n",
    "                print(\"Failed to converge, gradients too similar\")\n",
    "                return x_guess, False\n",
    "            \n",
    "            x_guess = x_guess - (( diff_f_g ) / ( grad_f_g ))\n",
    "            \n",
    "    return x_guess, True\n",
    "\n",
    "\n",
    "def sign_change(x, y):\n",
    "    if (x > 0 and y > 0) or (x < 0 and y < 0):\n",
    "        return False\n",
    "    return True\n",
    "\n",
    "def estimate_all_intercepts(f, g, interval, n_tests = 100, error = 1e-10):\n",
    "    x_tests = (np.arange(n_tests, dtype = np.float32) / (n_tests - 1)) * (interval[1] - interval[0]) + interval[0]\n",
    "    y_vals = np.fromiter((f(xi) - g(xi) for xi in x_tests), np.float32)\n",
    "    \n",
    "    test_list = []\n",
    "    \n",
    "    for i, val in enumerate(y_vals):\n",
    "        if(i == 0):\n",
    "            continue\n",
    "        \n",
    "        if sign_change(val, y_vals[i-1]):\n",
    "            test_list.append([x_tests[i-1], x_tests[i]])\n",
    "    \n",
    "    \n",
    "    # Still try to find 1 intercept\n",
    "    \n",
    "    intercepts_tests = []\n",
    "    \n",
    "    if len(test_list) == 0:\n",
    "        intercepts_tests = [calc_intercept(f, g, interval)]\n",
    "    else:\n",
    "        for i in test_list:\n",
    "            intercepts_tests.append(calc_intercept( f, g, i ))\n",
    "    \n",
    "    intercepts = []\n",
    "    for i in intercepts_tests:\n",
    "        if i[1] == True:\n",
    "            intercepts.append([i[0], f(i[0])])\n",
    "    return np.array(intercepts)\n",
    "\n",
    "def nearest_point(current_pos, possible_pos):\n",
    "    if len(possible_pos) == 0:\n",
    "        return None\n",
    "    elif len(possible_pos) == 1:\n",
    "        return possible_pos[0]\n",
    "    else:\n",
    "        nearest_index = 0\n",
    "        best_dist = np.inf\n",
    "        for i, test_pos in enumerate(possible_pos):\n",
    "            test_dist = np.sum((test_pos - current_pos) ** 2) ** 0.5\n",
    "            if test_dist < best_dist :\n",
    "                best_dist = test_dist\n",
    "                nearest_index = i\n",
    "        return possible_pos[nearest_index]\n",
    "\n",
    "\n",
    "def normal_angle(func, x):\n",
    "    return (math.pi / 2) + math.atan( calc_diff(func, x) )\n"
   ]
  },
  {
   "cell_type": "code",
   "execution_count": 3,
   "id": "af50232d",
   "metadata": {},
   "outputs": [
    {
     "name": "stdout",
     "output_type": "stream",
     "text": [
      "[[-3.5787142e-20 -3.5787142e-20]]\n",
      "[-3.5787142e-20 -3.5787142e-20]\n",
      "0.7500000131685385\n"
     ]
    }
   ],
   "source": [
    "def curve_1(x):\n",
    "    return x\n",
    "\n",
    "def cutoff(x):\n",
    "    return 2 * x\n",
    "\n",
    "ans = estimate_all_intercepts(curve_1, cutoff, np.array([-10, 10]))\n",
    "\n",
    "print(ans)\n",
    "\n",
    "\n",
    "nearest_ans = nearest_point(np.array([0, 0]), ans)\n",
    "print(nearest_ans)\n",
    "\n",
    "\n",
    "angle = normal_angle(curve_1, 10)\n",
    "print(angle / math.pi)"
   ]
  },
  {
   "cell_type": "code",
   "execution_count": 4,
   "id": "3cd56029",
   "metadata": {},
   "outputs": [
    {
     "data": {
      "text/plain": [
       "0.049937460992958524"
      ]
     },
     "execution_count": 4,
     "metadata": {},
     "output_type": "execute_result"
    }
   ],
   "source": [
    "refraction_angle(0.1, 1, 2)"
   ]
  },
  {
   "cell_type": "code",
   "execution_count": 20,
   "id": "35843c59",
   "metadata": {},
   "outputs": [],
   "source": [
    "class Bound_line:\n",
    "    def __init__(self, func, interval, is_less_than = True, n = 2):\n",
    "        self.func = func\n",
    "        self.interval = interval\n",
    "        self.is_less_than = is_less_than\n",
    "        self.n = n\n",
    "        \n",
    "    def isin(self, pos):\n",
    "        print(pos, self.interval)\n",
    "        if pos[0] < self.interval[0] or pos[0] > self.interval[1]:\n",
    "            return False\n",
    "        \n",
    "        if ( pos[1] <= self.func(pos[0]) ) == self.is_less_than:\n",
    "            return True\n",
    "        else:\n",
    "            return False\n",
    "    \n",
    "    def find_intercept(self, ray):\n",
    "        \n",
    "        ray_interval = self.interval.copy()\n",
    "        \n",
    "        if ray.is_moving_in_pos_x():\n",
    "            ray_interval[0] = ray.pos[0]\n",
    "        else:\n",
    "            ray_interval[1] = ray.pos[0]\n",
    "        \n",
    "        all_intercepts =  estimate_all_intercepts( ray.ray_to_cart(), self.func, ray_interval )\n",
    "        return nearest_point(ray.pos, all_intercepts)\n",
    "        \n",
    "    def get_norm_angle(self, x):\n",
    "        return (math.pi / 2) + math.atan(calc_diff(self.func, x))\n",
    "        \n",
    "    \n",
    "    \n",
    "class Light_ray:\n",
    "    def __init__(self, pos, angle):\n",
    "        self.pos = pos\n",
    "        self.angle = angle\n",
    "        \n",
    "    def ray_to_cart(self):\n",
    "        return polar_to_cart(self.pos, self.angle)\n",
    "\n",
    "    def is_moving_in_pos_x(self):\n",
    "        if (self.angle > math.pi / 2) or (self.angle < -math.pi / 2):\n",
    "            return False\n",
    "        else:\n",
    "            return True\n",
    "        \n",
    "    def update_ray(self, bound_line):\n",
    "        ray_intercept = bound_line.find_intercept(self)\n",
    "        \n",
    "        if len(ray_intercept) == 0:\n",
    "            return None\n",
    "        \n",
    "        norm_angle = bound_line.get_norm_angle(self.pos[0])\n",
    "        \n",
    "        refracted_angle_rel_line = refraction_angle(norm_angle - self.angle, 1, bound_line.n)\n",
    "        \n",
    "        new_angle = (math.pi + norm_angle + refracted_angle_rel_line) % math.pi\n",
    "        \n",
    "        return Light_ray(ray_intercept, new_angle)\n",
    "\n"
   ]
  },
  {
   "cell_type": "code",
   "execution_count": 21,
   "id": "6ffbc1a0",
   "metadata": {},
   "outputs": [],
   "source": [
    "\n",
    "def curve_3(x):\n",
    "    return x\n",
    "\n",
    "ray1 = Light_ray(np.array([0, 1]), - math.pi / 2)\n",
    "\n",
    "line1 = Bound_line(curve_3, np.array([-10, 10]), True)\n",
    "\n"
   ]
  },
  {
   "cell_type": "code",
   "execution_count": 22,
   "id": "14e92e47",
   "metadata": {},
   "outputs": [],
   "source": [
    "new_ray = ray1.update_ray(line1)"
   ]
  },
  {
   "cell_type": "code",
   "execution_count": 23,
   "id": "8b445aa1",
   "metadata": {},
   "outputs": [
    {
     "name": "stdout",
     "output_type": "stream",
     "text": [
      "[0 1] -0.5\n",
      "[6.12323400e-17 1.11022302e-16] 0.6349732719186921\n"
     ]
    }
   ],
   "source": [
    "print(ray1.pos, ray1.angle / math.pi)\n",
    "print(new_ray.pos, new_ray.angle / math.pi)"
   ]
  },
  {
   "cell_type": "code",
   "execution_count": null,
   "id": "a988988b",
   "metadata": {},
   "outputs": [],
   "source": [
    "p"
   ]
  }
 ],
 "metadata": {
  "kernelspec": {
   "display_name": "Python 3 (ipykernel)",
   "language": "python",
   "name": "python3"
  },
  "language_info": {
   "codemirror_mode": {
    "name": "ipython",
    "version": 3
   },
   "file_extension": ".py",
   "mimetype": "text/x-python",
   "name": "python",
   "nbconvert_exporter": "python",
   "pygments_lexer": "ipython3",
   "version": "3.8.9"
  }
 },
 "nbformat": 4,
 "nbformat_minor": 5
}
